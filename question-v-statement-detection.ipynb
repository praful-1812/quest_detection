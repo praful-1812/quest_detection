{
 "cells": [
  {
   "cell_type": "code",
   "execution_count": 2,
   "id": "amino-former",
   "metadata": {
    "execution": {
     "iopub.execute_input": "2021-05-29T08:46:31.238382Z",
     "iopub.status.busy": "2021-05-29T08:46:31.237867Z",
     "iopub.status.idle": "2021-05-29T08:46:31.904742Z",
     "shell.execute_reply": "2021-05-29T08:46:31.904121Z",
     "shell.execute_reply.started": "2021-05-22T11:18:15.841303Z"
    },
    "papermill": {
     "duration": 0.687276,
     "end_time": "2021-05-29T08:46:31.904894",
     "exception": false,
     "start_time": "2021-05-29T08:46:31.217618",
     "status": "completed"
    },
    "tags": []
   },
   "outputs": [
    {
     "name": "stdout",
     "output_type": "stream",
     "text": [
      "Python 2.7.18\n"
     ]
    }
   ],
   "source": [
    "!python --version"
   ]
  },
  {
   "cell_type": "code",
   "execution_count": 71,
   "id": "alien-tracker",
   "metadata": {
    "_cell_guid": "b1076dfc-b9ad-4769-8c92-a6c4dae69d19",
    "_uuid": "8f2839f25d086af736a60e9eeb907d3b93b6e0e5",
    "execution": {
     "iopub.execute_input": "2021-05-29T08:46:31.933285Z",
     "iopub.status.busy": "2021-05-29T08:46:31.932613Z",
     "iopub.status.idle": "2021-05-29T08:46:33.391248Z",
     "shell.execute_reply": "2021-05-29T08:46:33.390770Z",
     "shell.execute_reply.started": "2021-05-29T08:42:18.215479Z"
    },
    "papermill": {
     "duration": 1.475017,
     "end_time": "2021-05-29T08:46:33.391419",
     "exception": false,
     "start_time": "2021-05-29T08:46:31.916402",
     "status": "completed"
    },
    "tags": []
   },
   "outputs": [
    {
     "name": "stdout",
     "output_type": "stream",
     "text": [
      "./data/test.tsv\n",
      "./data/dev.tsv\n",
      "./data/train.tsv\n"
     ]
    }
   ],
   "source": [
    "# This Python 3 environment comes with many helpful analytics libraries installed\n",
    "# It is defined by the kaggle/python Docker image: https://github.com/kaggle/docker-python\n",
    "# For example, here's several helpful packages to load\n",
    "\n",
    "import numpy as np # linear algebra\n",
    "import pandas as pd # data processing, CSV file I/O (e.g. pd.read_csv)\n",
    "import nltk\n",
    "from sklearn.feature_extraction.text import TfidfVectorizer\n",
    "from sklearn.ensemble import GradientBoostingClassifier\n",
    "from sklearn.metrics import classification_report\n",
    "import pickle\n",
    "# Input data files are available in the read-only \"../input/\" directory\n",
    "# For example, running this (by clicking run or pressing Shift+Enter) will list all files under the input directory\n",
    "\n",
    "import os\n",
    "for dirname, _, filenames in os.walk('./data/'):\n",
    "    for filename in filenames:\n",
    "        print(os.path.join(dirname, filename))\n",
    "\n",
    "# You can write up to 20GB to the current directory (/kaggle/working/) that gets preserved as output when you create a version using \"Save & Run All\" \n",
    "# You can also write temporary files to /kaggle/temp/, but they won't be saved outside of the current session"
   ]
  },
  {
   "cell_type": "code",
   "execution_count": 5,
   "id": "following-operator",
   "metadata": {
    "execution": {
     "iopub.execute_input": "2021-05-29T08:46:33.419779Z",
     "iopub.status.busy": "2021-05-29T08:46:33.419084Z",
     "iopub.status.idle": "2021-05-29T08:46:38.752094Z",
     "shell.execute_reply": "2021-05-29T08:46:38.752472Z",
     "shell.execute_reply.started": "2021-05-29T08:42:19.812015Z"
    },
    "papermill": {
     "duration": 5.349683,
     "end_time": "2021-05-29T08:46:38.752622",
     "exception": false,
     "start_time": "2021-05-29T08:46:33.402939",
     "status": "completed"
    },
    "tags": []
   },
   "outputs": [
    {
     "data": {
      "text/plain": [
       "((1448739, 2), (160993, 2), (1557858, 2))"
      ]
     },
     "execution_count": 5,
     "metadata": {},
     "output_type": "execute_result"
    }
   ],
   "source": [
    "## loading datasets\n",
    "train_df = pd.read_csv('./data/train.tsv', sep='\\t')\n",
    "dev_df = pd.read_csv('./data/dev.tsv', sep='\\t')\n",
    "test_df = pd.read_csv('./data/test.tsv', sep='\\t')\n",
    "\n",
    "train_df.shape, dev_df.shape, test_df.shape"
   ]
  },
  {
   "cell_type": "code",
   "execution_count": 6,
   "id": "legal-apparel",
   "metadata": {
    "execution": {
     "iopub.execute_input": "2021-05-29T08:46:38.778100Z",
     "iopub.status.busy": "2021-05-29T08:46:38.777562Z",
     "iopub.status.idle": "2021-05-29T08:46:38.798171Z",
     "shell.execute_reply": "2021-05-29T08:46:38.798578Z",
     "shell.execute_reply.started": "2021-05-22T10:54:45.305495Z"
    },
    "papermill": {
     "duration": 0.034494,
     "end_time": "2021-05-29T08:46:38.798714",
     "exception": false,
     "start_time": "2021-05-29T08:46:38.764220",
     "status": "completed"
    },
    "tags": []
   },
   "outputs": [
    {
     "data": {
      "text/html": [
       "<div>\n",
       "<style scoped>\n",
       "    .dataframe tbody tr th:only-of-type {\n",
       "        vertical-align: middle;\n",
       "    }\n",
       "\n",
       "    .dataframe tbody tr th {\n",
       "        vertical-align: top;\n",
       "    }\n",
       "\n",
       "    .dataframe thead th {\n",
       "        text-align: right;\n",
       "    }\n",
       "</style>\n",
       "<table border=\"1\" class=\"dataframe\">\n",
       "  <thead>\n",
       "    <tr style=\"text-align: right;\">\n",
       "      <th></th>\n",
       "      <th>query</th>\n",
       "      <th>target</th>\n",
       "    </tr>\n",
       "  </thead>\n",
       "  <tbody>\n",
       "    <tr>\n",
       "      <th>0</th>\n",
       "      <td>How is the life of a math student? Could you d...</td>\n",
       "      <td>1</td>\n",
       "    </tr>\n",
       "    <tr>\n",
       "      <th>1</th>\n",
       "      <td>life math student describe own experiences</td>\n",
       "      <td>0</td>\n",
       "    </tr>\n",
       "    <tr>\n",
       "      <th>2</th>\n",
       "      <td>Which level of prepration is enough for the ex...</td>\n",
       "      <td>1</td>\n",
       "    </tr>\n",
       "    <tr>\n",
       "      <th>3</th>\n",
       "      <td>level enough jlpt5</td>\n",
       "      <td>0</td>\n",
       "    </tr>\n",
       "    <tr>\n",
       "      <th>4</th>\n",
       "      <td>How do I control my horny emotions</td>\n",
       "      <td>1</td>\n",
       "    </tr>\n",
       "  </tbody>\n",
       "</table>\n",
       "</div>"
      ],
      "text/plain": [
       "                                               query  target\n",
       "0  How is the life of a math student? Could you d...       1\n",
       "1         life math student describe own experiences       0\n",
       "2  Which level of prepration is enough for the ex...       1\n",
       "3                                 level enough jlpt5       0\n",
       "4                 How do I control my horny emotions       1"
      ]
     },
     "execution_count": 6,
     "metadata": {},
     "output_type": "execute_result"
    }
   ],
   "source": [
    "## inspect train set\n",
    "train_df.head()"
   ]
  },
  {
   "cell_type": "code",
   "execution_count": 7,
   "id": "interested-fetish",
   "metadata": {
    "execution": {
     "iopub.execute_input": "2021-05-29T08:46:38.853616Z",
     "iopub.status.busy": "2021-05-29T08:46:38.848398Z",
     "iopub.status.idle": "2021-05-29T08:47:13.106492Z",
     "shell.execute_reply": "2021-05-29T08:47:13.105899Z",
     "shell.execute_reply.started": "2021-05-29T08:42:52.778696Z"
    },
    "papermill": {
     "duration": 34.296462,
     "end_time": "2021-05-29T08:47:13.106639",
     "exception": false,
     "start_time": "2021-05-29T08:46:38.810177",
     "status": "completed"
    },
    "tags": []
   },
   "outputs": [
    {
     "data": {
      "text/plain": [
       "GradientBoostingClassifier(n_estimators=400, random_state=0)"
      ]
     },
     "execution_count": 7,
     "metadata": {},
     "output_type": "execute_result"
    }
   ],
   "source": [
    "## sampling only first 10k train samples to bootstrap a quick test.\n",
    "train_text = train_df['query'].values[:10000]\n",
    "test_text = test_df['query'].values\n",
    "\n",
    "## TF-IDF based features\n",
    "vectorizer = TfidfVectorizer(ngram_range=(1,3), \n",
    "                             min_df=0.001, \n",
    "                             max_df=0.7, \n",
    "                             analyzer='word')\n",
    "\n",
    "X_train = vectorizer.fit_transform(train_text)\n",
    "X_test = vectorizer.transform(test_text)\n",
    "\n",
    "\n",
    "y_train = train_df.target.values[:10000]\n",
    "y_test = test_df.target.values\n",
    "## TODO:\n",
    "## can be improved with cross validation to improve generalization\n",
    "gb = GradientBoostingClassifier(n_estimators = 400, random_state=0)\n",
    "\n",
    "\n",
    "gb.fit(X_train, y_train)"
   ]
  },
  {
   "cell_type": "code",
   "execution_count": 8,
   "id": "civil-tuning",
   "metadata": {
    "execution": {
     "iopub.execute_input": "2021-05-29T08:47:13.135873Z",
     "iopub.status.busy": "2021-05-29T08:47:13.135200Z",
     "iopub.status.idle": "2021-05-29T08:47:13.249048Z",
     "shell.execute_reply": "2021-05-29T08:47:13.248630Z",
     "shell.execute_reply.started": "2021-05-22T10:55:33.243846Z"
    },
    "papermill": {
     "duration": 0.129744,
     "end_time": "2021-05-29T08:47:13.249171",
     "exception": false,
     "start_time": "2021-05-29T08:47:13.119427",
     "status": "completed"
    },
    "tags": []
   },
   "outputs": [
    {
     "name": "stdout",
     "output_type": "stream",
     "text": [
      "              precision    recall  f1-score   support\n",
      "\n",
      "           0       0.98      1.00      0.99    775929\n",
      "           1       1.00      0.97      0.99    781929\n",
      "\n",
      "    accuracy                           0.99   1557858\n",
      "   macro avg       0.99      0.99      0.99   1557858\n",
      "weighted avg       0.99      0.99      0.99   1557858\n",
      "\n"
     ]
    }
   ],
   "source": [
    "predictions_rf = gb.predict(X_test)\n",
    "\n",
    "## f1 score of 99% comparative to attention based model\n",
    "print(classification_report(y_test, predictions_rf))"
   ]
  },
  {
   "cell_type": "code",
   "execution_count": 9,
   "id": "floppy-scheduling",
   "metadata": {
    "execution": {
     "iopub.execute_input": "2021-05-29T08:47:13.287128Z",
     "iopub.status.busy": "2021-05-29T08:47:13.277246Z",
     "iopub.status.idle": "2021-05-29T08:47:13.290934Z",
     "shell.execute_reply": "2021-05-29T08:47:13.290517Z",
     "shell.execute_reply.started": "2021-05-22T10:55:43.746955Z"
    },
    "papermill": {
     "duration": 0.029159,
     "end_time": "2021-05-29T08:47:13.291087",
     "exception": false,
     "start_time": "2021-05-29T08:47:13.261928",
     "status": "completed"
    },
    "tags": []
   },
   "outputs": [],
   "source": [
    "\n",
    "\n",
    "with open('query_classifier.pickle', 'wb') as handle:\n",
    "    pickle.dump(gb, handle, protocol=pickle.HIGHEST_PROTOCOL)\n"
   ]
  },
  {
   "cell_type": "code",
   "execution_count": 10,
   "id": "genetic-silver",
   "metadata": {
    "execution": {
     "iopub.execute_input": "2021-05-29T08:47:13.320080Z",
     "iopub.status.busy": "2021-05-29T08:47:13.319250Z",
     "iopub.status.idle": "2021-05-29T08:47:13.341440Z",
     "shell.execute_reply": "2021-05-29T08:47:13.340810Z",
     "shell.execute_reply.started": "2021-05-22T10:55:43.772817Z"
    },
    "papermill": {
     "duration": 0.037873,
     "end_time": "2021-05-29T08:47:13.341557",
     "exception": false,
     "start_time": "2021-05-29T08:47:13.303684",
     "status": "completed"
    },
    "tags": []
   },
   "outputs": [],
   "source": [
    "\n",
    "with open('query_vectorizer.pickle', 'wb') as handle:\n",
    "    pickle.dump(vectorizer, handle, protocol=pickle.HIGHEST_PROTOCOL)"
   ]
  },
  {
   "cell_type": "markdown",
   "id": "patient-offering",
   "metadata": {
    "papermill": {
     "duration": 0.012868,
     "end_time": "2021-05-29T08:47:13.367486",
     "exception": false,
     "start_time": "2021-05-29T08:47:13.354618",
     "status": "completed"
    },
    "tags": []
   },
   "source": [
    "# Testing SPAADIA/SQUAD BASED CLASSIFIER ON QUORA DATASET"
   ]
  },
  {
   "cell_type": "code",
   "execution_count": 11,
   "id": "electrical-district",
   "metadata": {
    "execution": {
     "iopub.execute_input": "2021-05-29T08:47:13.405145Z",
     "iopub.status.busy": "2021-05-29T08:47:13.404451Z",
     "iopub.status.idle": "2021-05-29T08:47:16.847244Z",
     "shell.execute_reply": "2021-05-29T08:47:16.846790Z",
     "shell.execute_reply.started": "2021-05-29T08:42:34.608358Z"
    },
    "papermill": {
     "duration": 3.466981,
     "end_time": "2021-05-29T08:47:16.847391",
     "exception": false,
     "start_time": "2021-05-29T08:47:13.380410",
     "status": "completed"
    },
    "tags": []
   },
   "outputs": [
    {
     "name": "stderr",
     "output_type": "stream",
     "text": [
      "/tmp/ipykernel_35845/3408061569.py:2: DeprecationWarning: Please use `csr_matrix` from the `scipy.sparse` namespace, the `scipy.sparse.csr` namespace is deprecated.\n",
      "  query_vectorizer_spaadia_squad = pickle.load(\n",
      "/home/lb/.local/lib/python3.8/site-packages/sklearn/base.py:329: UserWarning: Trying to unpickle estimator TfidfTransformer from version 0.24.1 when using version 1.0.2. This might lead to breaking code or invalid results. Use at your own risk. For more info please refer to:\n",
      "https://scikit-learn.org/stable/modules/model_persistence.html#security-maintainability-limitations\n",
      "  warnings.warn(\n",
      "/home/lb/.local/lib/python3.8/site-packages/sklearn/base.py:329: UserWarning: Trying to unpickle estimator TfidfVectorizer from version 0.24.1 when using version 1.0.2. This might lead to breaking code or invalid results. Use at your own risk. For more info please refer to:\n",
      "https://scikit-learn.org/stable/modules/model_persistence.html#security-maintainability-limitations\n",
      "  warnings.warn(\n",
      "/home/lb/.local/lib/python3.8/site-packages/sklearn/base.py:329: UserWarning: Trying to unpickle estimator DummyClassifier from version 0.24.1 when using version 1.0.2. This might lead to breaking code or invalid results. Use at your own risk. For more info please refer to:\n",
      "https://scikit-learn.org/stable/modules/model_persistence.html#security-maintainability-limitations\n",
      "  warnings.warn(\n",
      "/home/lb/.local/lib/python3.8/site-packages/sklearn/base.py:329: UserWarning: Trying to unpickle estimator DecisionTreeRegressor from version 0.24.1 when using version 1.0.2. This might lead to breaking code or invalid results. Use at your own risk. For more info please refer to:\n",
      "https://scikit-learn.org/stable/modules/model_persistence.html#security-maintainability-limitations\n",
      "  warnings.warn(\n",
      "/home/lb/.local/lib/python3.8/site-packages/sklearn/base.py:329: UserWarning: Trying to unpickle estimator GradientBoostingClassifier from version 0.24.1 when using version 1.0.2. This might lead to breaking code or invalid results. Use at your own risk. For more info please refer to:\n",
      "https://scikit-learn.org/stable/modules/model_persistence.html#security-maintainability-limitations\n",
      "  warnings.warn(\n"
     ]
    }
   ],
   "source": [
    "import urllib\n",
    "query_vectorizer_spaadia_squad = pickle.load(\n",
    "            urllib.request.urlopen(\n",
    "                \"https://raw.githubusercontent.com/shahrukhx01/ocr-test/main/query_vectorizer.pickle\"))\n",
    "query_classifier_spaadia_squad = pickle.load(\n",
    "            urllib.request.urlopen(\n",
    "                \"https://raw.githubusercontent.com/shahrukhx01/ocr-test/main/query_classifier.pickle\"))"
   ]
  },
  {
   "cell_type": "code",
   "execution_count": 35,
   "id": "dirty-paint",
   "metadata": {
    "papermill": {
     "duration": 0.012208,
     "end_time": "2021-05-29T08:48:00.422881",
     "exception": false,
     "start_time": "2021-05-29T08:48:00.410673",
     "status": "completed"
    },
    "tags": []
   },
   "outputs": [],
   "source": [
    "vectorizer_for_text = pickle.load(open(\"query_vectorizer.pickle\", 'rb'))\n",
    "classifier_for_text = pickle.load(open(\"query_classifier.pickle\",'rb'))"
   ]
  },
  {
   "cell_type": "code",
   "execution_count": 72,
   "id": "spanish-pulse",
   "metadata": {
    "execution": {
     "iopub.execute_input": "2021-05-29T08:47:16.910366Z",
     "iopub.status.busy": "2021-05-29T08:47:16.900353Z",
     "iopub.status.idle": "2021-05-29T08:48:00.370780Z",
     "shell.execute_reply": "2021-05-29T08:48:00.371245Z",
     "shell.execute_reply.started": "2021-05-29T08:43:49.446520Z"
    },
    "papermill": {
     "duration": 43.511404,
     "end_time": "2021-05-29T08:48:00.371415",
     "exception": false,
     "start_time": "2021-05-29T08:47:16.860011",
     "status": "completed"
    },
    "tags": []
   },
   "outputs": [
    {
     "name": "stdout",
     "output_type": "stream",
     "text": [
      "              precision    recall  f1-score   support\n",
      "\n",
      "           0       0.98      1.00      0.99    775929\n",
      "           1       1.00      0.97      0.99    781929\n",
      "\n",
      "    accuracy                           0.99   1557858\n",
      "   macro avg       0.99      0.99      0.99   1557858\n",
      "weighted avg       0.99      0.99      0.99   1557858\n",
      "\n"
     ]
    }
   ],
   "source": [
    "test_text = test_df['query'].values\n",
    "X_test = vectorizer_for_text.transform(test_text)\n",
    "predictions_rf = classifier_for_text.predict(X_test)\n",
    "\n",
    "## f1 score of 99% comparative to attention based model\n",
    "print(classification_report(y_test, predictions_rf))"
   ]
  },
  {
   "cell_type": "code",
   "execution_count": 32,
   "id": "consolidated-november",
   "metadata": {
    "papermill": {
     "duration": 0.012861,
     "end_time": "2021-05-29T08:48:00.397549",
     "exception": false,
     "start_time": "2021-05-29T08:48:00.384688",
     "status": "completed"
    },
    "tags": []
   },
   "outputs": [
    {
     "data": {
      "text/plain": [
       "array([0])"
      ]
     },
     "execution_count": 32,
     "metadata": {},
     "output_type": "execute_result"
    }
   ],
   "source": [
    "ls  = [\"can we do this?\"]\n",
    "text = query_vectorizer_spaadia_squad.transform(ls)\n",
    "query_classifier_spaadia_squad.predict(text)"
   ]
  },
  {
   "cell_type": "code",
   "execution_count": 73,
   "id": "equipped-trigger",
   "metadata": {
    "papermill": {
     "duration": 0.012427,
     "end_time": "2021-05-29T08:48:00.447330",
     "exception": false,
     "start_time": "2021-05-29T08:48:00.434903",
     "status": "completed"
    },
    "tags": []
   },
   "outputs": [
    {
     "data": {
      "text/plain": [
       "array([1])"
      ]
     },
     "execution_count": 73,
     "metadata": {},
     "output_type": "execute_result"
    }
   ],
   "source": [
    "ls  = [\"can we do this?\"]\n",
    "text = vectorizer_for_text.transform(ls)\n",
    "classifier_for_text.predict(text)"
   ]
  },
  {
   "cell_type": "code",
   "execution_count": null,
   "id": "streaming-linux",
   "metadata": {
    "papermill": {
     "duration": 0.012267,
     "end_time": "2021-05-29T08:48:00.472409",
     "exception": false,
     "start_time": "2021-05-29T08:48:00.460142",
     "status": "completed"
    },
    "tags": []
   },
   "outputs": [],
   "source": []
  }
 ],
 "metadata": {
  "kernelspec": {
   "display_name": "Python 3",
   "language": "python",
   "name": "python3"
  },
  "language_info": {
   "codemirror_mode": {
    "name": "ipython",
    "version": 3
   },
   "file_extension": ".py",
   "mimetype": "text/x-python",
   "name": "python",
   "nbconvert_exporter": "python",
   "pygments_lexer": "ipython3",
   "version": "3.8.10"
  },
  "papermill": {
   "default_parameters": {},
   "duration": 97.175995,
   "end_time": "2021-05-29T08:48:01.695891",
   "environment_variables": {},
   "exception": null,
   "input_path": "__notebook__.ipynb",
   "output_path": "__notebook__.ipynb",
   "parameters": {},
   "start_time": "2021-05-29T08:46:24.519896",
   "version": "2.3.3"
  },
  "vscode": {
   "interpreter": {
    "hash": "916dbcbb3f70747c44a77c7bcd40155683ae19c65e1c03b4aa3499c5328201f1"
   }
  }
 },
 "nbformat": 4,
 "nbformat_minor": 5
}
